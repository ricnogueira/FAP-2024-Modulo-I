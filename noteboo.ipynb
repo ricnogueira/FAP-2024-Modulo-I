{
 "cells": [
  {
   "cell_type": "code",
   "execution_count": 1,
   "metadata": {},
   "outputs": [
    {
     "name": "stdout",
     "output_type": "stream",
     "text": [
      "True\n",
      "<class 'str'>\n",
      "45\n"
     ]
    }
   ],
   "source": [
    "idade = \"4.5\"\n",
    "\n",
    "idade = idade.replace('.', '')\n",
    "\n",
    "print(str.isnumeric(idade))\n",
    "print(type(idade))\n",
    "print(idade)"
   ]
  },
  {
   "cell_type": "code",
   "execution_count": 1,
   "metadata": {},
   "outputs": [
    {
     "name": "stdout",
     "output_type": "stream",
     "text": [
      "asdfjas\n",
      "<class 'str'>\n",
      "Entrada inválida! A altura deve estar entre 0.5 e 2.5. Você tem mais 3 tentativa(s).\n",
      "\n",
      "asdfas\n",
      "<class 'str'>\n",
      "Entrada inválida! A altura deve estar entre 0.5 e 2.5. Você tem mais 2 tentativa(s).\n",
      "\n",
      "05\n",
      "<class 'str'>\n",
      "#############\n",
      "0.05\n",
      "<class 'float'>\n",
      "#############\n",
      "4444444444444\n",
      "Entrada inválida! A altura deve estar entre 0.5 e 2.5. Você tem mais 1 tentativa(s).\n",
      "\n",
      "<class 'float'>\n",
      "0.05\n",
      "25\n",
      "<class 'str'>\n",
      "#############\n",
      "0.25\n",
      "<class 'float'>\n",
      "#############\n",
      "4444444444444\n",
      "Entrada inválida! A altura deve estar entre 0.5 e 2.5. Você tem mais 0 tentativa(s).\n",
      "\n",
      "<class 'float'>\n",
      "0.25\n",
      "PROGRAMA FINALIZADO. TENTE NOVAMENTE SEGUINDO AS INSTRUÇÕES!\n",
      "\n"
     ]
    },
    {
     "ename": "",
     "evalue": "",
     "output_type": "error",
     "traceback": [
      "\u001b[1;31mO Kernel deu pane ao executar o código na célula atual ou em uma célula anterior. \n",
      "\u001b[1;31mAnalise o código nas células para identificar uma possível causa da pane. \n",
      "\u001b[1;31mClique <a href='https://aka.ms/vscodeJupyterKernelCrash'>aqui</a> para obter mais informações. \n",
      "\u001b[1;31mConsulte Jupyter <a href='command:jupyter.viewOutput'>log</a> para obter mais detalhes."
     ]
    }
   ],
   "source": [
    "tentativas = 0\n",
    "numero_tentativas = 4\n",
    "\n",
    "while tentativas < numero_tentativas:\n",
    "    altura_input = input(\"Digite sua altura *: \").replace('.', '')\n",
    "    print(altura_input)\n",
    "    print(type(altura_input))\n",
    "    if altura_input.isnumeric():\n",
    "        altura_float = float(altura_input)\n",
    "        altura = altura_float / 100\n",
    "        altura_input = round(altura, 2)\n",
    "        print(\"#############\")\n",
    "        print(altura_input)\n",
    "        print(type(altura_input))\n",
    "        print(\"#############\")\n",
    "        if float(altura_input):\n",
    "            if 1.0 <= altura_input <= 2.5:\n",
    "                break\n",
    "            else:\n",
    "                print('4444444444444')\n",
    "                print(f\"Entrada inválida! A altura deve estar entre 0.5 e 2.5. Você tem mais {numero_tentativas - tentativas - 1} tentativa(s).\\n\")\n",
    "                print(type(altura))\n",
    "                print(altura)\n",
    "    else:\n",
    "        print(f\"Entrada inválida! A altura deve estar entre 0.5 e 2.5. Você tem mais {numero_tentativas - tentativas - 1} tentativa(s).\\n\")\n",
    "    \n",
    "    tentativas += 1\n",
    "    if tentativas == numero_tentativas:\n",
    "        print(\"PROGRAMA FINALIZADO. TENTE NOVAMENTE SEGUINDO AS INSTRUÇÕES!\\n\")\n",
    "        exit()"
   ]
  },
  {
   "cell_type": "code",
   "execution_count": 1,
   "metadata": {},
   "outputs": [
    {
     "name": "stdout",
     "output_type": "stream",
     "text": [
      "168.00\n"
     ]
    }
   ],
   "source": [
    "a = \"168\"\n",
    "a_float = float(a)        # Converte a string para float\n",
    "a_float_duas_casas = f\"{a_float:.2f}\"  # Formata para duas casas decimais usando f-string\n",
    "print(a_float_duas_casas)"
   ]
  },
  {
   "cell_type": "code",
   "execution_count": 2,
   "metadata": {},
   "outputs": [
    {
     "name": "stdout",
     "output_type": "stream",
     "text": [
      "65234\n",
      "<class 'str'>\n",
      "#############\n",
      "65.234\n",
      "<class 'float'>\n",
      "#############\n"
     ]
    }
   ],
   "source": [
    "tentativas = 0\n",
    "numero_tentativas = 4\n",
    "while tentativas < numero_tentativas:\n",
    "    peso_input = input(\"Digite seu peso *: \").replace('.', '')\n",
    "    print(peso_input)\n",
    "    print(type(peso_input))\n",
    "    if peso_input.isnumeric():\n",
    "        peso_float = float(peso_input)\n",
    "        peso = peso_float / 1000\n",
    "        peso_input = round(peso, 3)\n",
    "        print(\"#############\")\n",
    "        print(peso_input)\n",
    "        print(type(peso_input))\n",
    "        print(\"#############\")\n",
    "        #if float(altura_input):\n",
    "        if 1.0 <= peso_input <= 250.0:\n",
    "            break\n",
    "        else:\n",
    "            print('4444444444444')\n",
    "            print(f\"Entrada inválida. Exemplo para 75 Kilos e 255 gramas: 75.255 - Você tem mais {numero_tentativas - tentativas} tentativa(s).\\n\")\n",
    "            print(type(peso_input))\n",
    "            print(peso_input)\n",
    "    else:\n",
    "        print(f\"Entrada inválida. Exemplo para 75 Kilos e 255 gramas: 75.255 - Você tem mais {numero_tentativas - tentativas} tentativa(s).\\n\")\n",
    "    \n",
    "    tentativas += 1\n",
    "    if tentativas == numero_tentativas:\n",
    "        print(\"PROGRAMA FINALIZADO. TENTE NOVAMENTE SEGUINDO AS INSTRUÇÕES!\\n\")\n",
    "        exit()"
   ]
  },
  {
   "cell_type": "code",
   "execution_count": 3,
   "metadata": {},
   "outputs": [
    {
     "name": "stdout",
     "output_type": "stream",
     "text": [
      "70\n",
      "<class 'str'>\n",
      "0.07\n",
      "Entrada inválida. Exemplo para 60 Kilos: 60.000. Para 75 Kilos e 255 gramas: 75.255 - Você tem mais 4 tentativa(s).\n",
      "\n",
      "70000\n",
      "<class 'str'>\n",
      "70.0\n"
     ]
    }
   ],
   "source": [
    "tentativas = 0\n",
    "numero_tentativas = 4\n",
    "while tentativas < numero_tentativas:\n",
    "    peso_input = input(\"Digite seu peso *: \").replace('.', '')\n",
    "    print(peso_input)\n",
    "    print(type(peso_input))\n",
    "    if peso_input.isnumeric():\n",
    "    #if peso_input.isdigit():\n",
    "        peso_float = float(peso_input)\n",
    "        peso = peso_float / 1000\n",
    "        peso_input = round(peso, 3)\n",
    "        print(peso_input)\n",
    "        if 1.0 <= peso_input <= 250.0:\n",
    "            break\n",
    "        else:\n",
    "            print(f\"Entrada inválida. Exemplo para 60 Kilos: 60.000. Para 75 Kilos e 255 gramas: 75.255 - Você tem mais {numero_tentativas - tentativas} tentativa(s).\\n\")\n",
    "    else:\n",
    "        print(f\"Entrada inválida. Exemplo para 60 Kilos: 60.000. Exemplo para 75 Kilos e 255 gramas: 75.255 - Você tem mais {numero_tentativas - tentativas} tentativa(s).\\n\")\n",
    "    \n",
    "    tentativas += 1\n",
    "    if tentativas == numero_tentativas:\n",
    "        print(\"PROGRAMA FINALIZADO. TENTE NOVAMENTE SEGUINDO AS INSTRUÇÕES!\\n\")\n",
    "        exit()"
   ]
  }
 ],
 "metadata": {
  "kernelspec": {
   "display_name": "Python 3",
   "language": "python",
   "name": "python3"
  },
  "language_info": {
   "codemirror_mode": {
    "name": "ipython",
    "version": 3
   },
   "file_extension": ".py",
   "mimetype": "text/x-python",
   "name": "python",
   "nbconvert_exporter": "python",
   "pygments_lexer": "ipython3",
   "version": "3.11.2"
  }
 },
 "nbformat": 4,
 "nbformat_minor": 2
}
